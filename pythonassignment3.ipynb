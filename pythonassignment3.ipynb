{
 "cells": [
  {
   "cell_type": "code",
   "execution_count": null,
   "id": "cc23c2e0-3304-4894-a68a-92688c42e648",
   "metadata": {},
   "outputs": [],
   "source": [
    "1.Why are functions advantageous to have in your programs?\n",
    "\n",
    "ANSWER - With the help of functions, we can avoid rewriting the same logic or code again and again in a program. In a single Program, we can call Python functions anywhere and also call multiple times. We can track a large Python program easily when it is divided into multiple functions"
   ]
  },
  {
   "cell_type": "code",
   "execution_count": null,
   "id": "210a06de-54a1-40e0-a592-74b820b89a14",
   "metadata": {},
   "outputs": [],
   "source": [
    "2.When does the code in a function run: when it is specified or when it is called?\n",
    "ANSWER - The fuction runs when it is called"
   ]
  },
  {
   "cell_type": "code",
   "execution_count": null,
   "id": "3017de4b-a979-49f2-8a4e-166316a48d6d",
   "metadata": {},
   "outputs": [],
   "source": [
    "3. What statement creates a function?\n",
    "ANSWER - def test( )  This creates a function."
   ]
  },
  {
   "cell_type": "code",
   "execution_count": null,
   "id": "2fbb6a22-a7bf-4f98-b865-85d8f8043bdf",
   "metadata": {},
   "outputs": [],
   "source": [
    "4. What is the difference between a function and a function call?\n",
    "ANSWER - A function is a block of code that does a particular operation and returns a result.\n",
    "It usually accepts inputs as parameters and returns a result. The parameters are not mandatory. \n",
    "A function call is the code used to pass control to a function.\n",
    "\n",
    "def my_func(): \n",
    "    pass \n",
    "my_func() #calling of function"
   ]
  },
  {
   "cell_type": "code",
   "execution_count": null,
   "id": "c89d0f97-19cd-4e17-854d-e08d6ad32876",
   "metadata": {},
   "outputs": [],
   "source": [
    "5. How many global scopes are there in a Python program? How many local scopes?\n",
    "ANSWER -''' At any given time during execution, \n",
    "you'll have at most four active Python scopes—local, enclosing, global, and built-in—depending on w\n",
    "here you are in the code. On the other hand, you'll always have at least two active scopes, \n",
    "which are the global and built-in scopes'''"
   ]
  },
  {
   "cell_type": "code",
   "execution_count": null,
   "id": "6b09264f-102b-4e31-9f1b-8ce029553f14",
   "metadata": {},
   "outputs": [],
   "source": [
    "6. What happens to variables in a local scope when the function call returns?\n",
    "ANSWER - Each call of the function creates new local variables, \n",
    "        and their lifetimes expire when the function returns to the caller."
   ]
  },
  {
   "cell_type": "code",
   "execution_count": null,
   "id": "7673ee78-6580-45c6-8000-0f6a478d3a74",
   "metadata": {},
   "outputs": [],
   "source": [
    "7. What is the concept of a return value? Is it possible to have a return value in an expression?\n",
    "ANSWER - A return value is the value that a function call evaluates to. \n",
    "        Like any value, a return value can be used as part of an expression.\n"
   ]
  },
  {
   "cell_type": "code",
   "execution_count": null,
   "id": "7cb3a069-aa5a-4c46-9db8-49f1c8549745",
   "metadata": {},
   "outputs": [],
   "source": [
    "8. If a function does not have a return statement, what is the return value of a call to that function?\n",
    "ANSWER -  If the funtion does not have a return statement it will not return anything.\n"
   ]
  },
  {
   "cell_type": "code",
   "execution_count": null,
   "id": "cc433837-da8b-4bdc-8e8a-bc9a3976f02d",
   "metadata": {},
   "outputs": [],
   "source": [
    "9. How do you make a function variable refer to the global variable?\n",
    "ANSWER - To make function variable as a global variable you can use the global \n",
    "        keyword to declare which variables are global."
   ]
  },
  {
   "cell_type": "code",
   "execution_count": null,
   "id": "bf1f411c-f77a-4bba-87c2-7289c4475611",
   "metadata": {},
   "outputs": [],
   "source": [
    "10. What is the data type of None?\n",
    "ANSWER - The data type of None is NoneType.\n"
   ]
  },
  {
   "cell_type": "code",
   "execution_count": null,
   "id": "6909405f-0051-4dbd-8692-a5fa7d00008d",
   "metadata": {},
   "outputs": [],
   "source": [
    "11. What does the sentence import areallyourpetsnamederic do?\n",
    "ANSWER - That import statement imports a module named areallyourpetsnamederic.\n",
    "            (This isn't a real Python module, by the way.)"
   ]
  },
  {
   "cell_type": "code",
   "execution_count": null,
   "id": "fc6a4b6a-75d7-4402-b7dc-f7bd0cb1d3c4",
   "metadata": {},
   "outputs": [],
   "source": [
    "12. If you had a bacon() feature in a spam module, what would you call it after importing spam?\n",
    "ANSWER - import spam\n",
    "            spam.bacon()"
   ]
  },
  {
   "cell_type": "code",
   "execution_count": null,
   "id": "f3e81eb6-d730-49b1-b325-cf56b3662458",
   "metadata": {},
   "outputs": [],
   "source": []
  },
  {
   "cell_type": "code",
   "execution_count": null,
   "id": "445ae238-cc09-4f5b-9fbd-967983714290",
   "metadata": {},
   "outputs": [],
   "source": []
  },
  {
   "cell_type": "code",
   "execution_count": null,
   "id": "16e94415-756b-4053-8e7c-97d1ba8afb69",
   "metadata": {},
   "outputs": [],
   "source": []
  },
  {
   "cell_type": "code",
   "execution_count": null,
   "id": "d7e062f9-fe78-46aa-b515-f2c04fcc9c05",
   "metadata": {},
   "outputs": [],
   "source": []
  },
  {
   "cell_type": "code",
   "execution_count": null,
   "id": "ac68f4d1-7aca-4af8-8a2a-e18f1c7a1c73",
   "metadata": {},
   "outputs": [],
   "source": []
  },
  {
   "cell_type": "code",
   "execution_count": null,
   "id": "98b6bf5a-fe8b-4430-a406-425029f1daae",
   "metadata": {},
   "outputs": [],
   "source": []
  }
 ],
 "metadata": {
  "kernelspec": {
   "display_name": "Python 3 (ipykernel)",
   "language": "python",
   "name": "python3"
  },
  "language_info": {
   "codemirror_mode": {
    "name": "ipython",
    "version": 3
   },
   "file_extension": ".py",
   "mimetype": "text/x-python",
   "name": "python",
   "nbconvert_exporter": "python",
   "pygments_lexer": "ipython3",
   "version": "3.10.6"
  }
 },
 "nbformat": 4,
 "nbformat_minor": 5
}
